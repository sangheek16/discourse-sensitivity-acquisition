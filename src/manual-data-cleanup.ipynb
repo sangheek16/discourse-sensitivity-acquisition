{
 "cells": [
  {
   "cell_type": "code",
   "execution_count": 11,
   "id": "9f6528c1",
   "metadata": {},
   "outputs": [],
   "source": [
    "import csv\n",
    "import utils\n",
    "\n",
    "from collections import defaultdict\n",
    "from copy import deepcopy"
   ]
  },
  {
   "cell_type": "code",
   "execution_count": 2,
   "id": "f835ab0d",
   "metadata": {},
   "outputs": [],
   "source": [
    "raw_data = []\n",
    "with open(\"../data/MC ARC continuation - continuation-2.csv\") as f:\n",
    "    reader = csv.DictReader(f)\n",
    "    for line in reader:\n",
    "        raw_data.append(line)"
   ]
  },
  {
   "cell_type": "code",
   "execution_count": 3,
   "id": "ca5ac89a",
   "metadata": {},
   "outputs": [],
   "source": [
    "idx_key_fixed = deepcopy(raw_data)\n",
    "for i, entry in enumerate(idx_key_fixed):\n",
    "    # fixes idx issue by setting it to the previous number if it is empty.\n",
    "    if entry['idx'] == '':\n",
    "        entry['idx'] = idx_key_fixed[i-1]['idx']\n",
    "    \n",
    "    # using the same logic as above, fixes the issue of mapping the values to vp1_cont and vp2_cont by using the previous key\n",
    "    if entry['key'] == '':\n",
    "        entry['key'] = idx_key_fixed[i-1]['key']"
   ]
  },
  {
   "cell_type": "code",
   "execution_count": 4,
   "id": "54ed5d61",
   "metadata": {},
   "outputs": [],
   "source": [
    "# save it all in the following format:\n",
    "# {\n",
    "#     1: {\n",
    "#         'verb1': '',\n",
    "#         'verb2': ''\n",
    "#     }\n",
    "# }\n",
    "\n",
    "full_fixed = defaultdict(lambda: defaultdict(list))\n",
    "for entry in idx_key_fixed:\n",
    "    if entry['type'] == '':\n",
    "        full_fixed[entry['idx']][entry['key']] = entry['value']\n",
    "    else:\n",
    "        # an old thing I wrote, ignore for now but keep around.\n",
    "        # full_fixed[entry['idx']][entry['key']].append(entry['concated'].split(\"||\"))\n",
    "        full_fixed[entry['idx']][entry['key']].append((entry['value'], entry['type']))"
   ]
  },
  {
   "cell_type": "code",
   "execution_count": 10,
   "id": "17dc1a2f",
   "metadata": {},
   "outputs": [
    {
     "data": {
      "text/plain": [
       "defaultdict(list,\n",
       "            {'verb1': 'did',\n",
       "             'verb2': 'does',\n",
       "             'subj': 'The teacher',\n",
       "             'vp1': 'met the Illinois governor at a Greek restaurant',\n",
       "             'vp2': 'finds humor in the worst situations',\n",
       "             'prn': 'he',\n",
       "             'name1': 'Erika',\n",
       "             'name2': 'Cameron',\n",
       "             'vp1_cont': [('Which restaurant was it?', 'lexical overlap'),\n",
       "              (\"I didn't know the governor likes Greek food.\",\n",
       "               'lexical overlap'),\n",
       "              ('Where was the restaurant located?', 'lexical overlap'),\n",
       "              ('Was it only the governor, or were there other people as well?',\n",
       "               'lexical overlap'),\n",
       "              ('Is any of them Greek?', 'lexical overlap'),\n",
       "              ('Did they take a picture together?', 'situational inference'),\n",
       "              ('I wonder if they talked about educational policies.',\n",
       "               'situational inference'),\n",
       "              ('I thought the two were incompatible.',\n",
       "               'situational inference'),\n",
       "              ('I can see that the election season is coming up.',\n",
       "               'situational inference'),\n",
       "              ('Do you know if it was a coincidence?',\n",
       "               'situational inference'),\n",
       "              ('When did the meeting happen?', 'event association'),\n",
       "              ('Why did they meet up in the first place?',\n",
       "               'event association'),\n",
       "              ('How did the meeting go?', 'event association'),\n",
       "              ('Remind me what kind of meeting this was.',\n",
       "               'event association'),\n",
       "              (\"That's cool, imagine bumping into a public figure!\",\n",
       "               'event association')],\n",
       "             'vp2_cont': [('That kind of humor help us survive in this rough world.',\n",
       "               'lexical overlap'),\n",
       "              ('Do you like humorous people?', 'lexical overlap'),\n",
       "              (\"Haha, to be fair, doesn't he find humor in any situations?\",\n",
       "               'lexical overlap'),\n",
       "              (\"Humor is difficult to find when you're down, that's quite impressive.\",\n",
       "               'lexical overlap'),\n",
       "              ('He must have lots of humorous friends.', 'lexical overlap'),\n",
       "              ('No wonder why people like to be around that teacher!',\n",
       "               'situational inference'),\n",
       "              ('Do you know if spending lots of time with students would have helped?',\n",
       "               'situational inference'),\n",
       "              ('I bet that makes the classroom environment much better!',\n",
       "               'situational inference'),\n",
       "              ('Do you think that kind of personality just comes naturally?',\n",
       "               'situational inference'),\n",
       "              ('How do you think he keeps that attitude?',\n",
       "               'situational inference'),\n",
       "              (\"That's a really good attitude to keep.\", 'event association'),\n",
       "              ('Do you to have that kind of positive mindset?',\n",
       "               'event association'),\n",
       "              ('I would rather be grumpy.', 'event association'),\n",
       "              ('Well, I value people expressing anger than just trying to be positive.',\n",
       "               'event association'),\n",
       "              (\"That's the mindset we need when there are so many crazy things happening in this world.\",\n",
       "               'event association')]})"
      ]
     },
     "execution_count": 10,
     "metadata": {},
     "output_type": "execute_result"
    }
   ],
   "source": [
    "# example:\n",
    "full_fixed['1']"
   ]
  },
  {
   "cell_type": "code",
   "execution_count": 6,
   "id": "65f149c0",
   "metadata": {},
   "outputs": [],
   "source": [
    "# csv format\n",
    "\n",
    "fixed_csv_format = []\n",
    "for idx, entry in full_fixed.items():\n",
    "    assert len(entry['vp1_cont']) == len(entry['vp2_cont'])\n",
    "    \n",
    "    # ignore unfilled cases\n",
    "    if entry['vp1_cont'][0][0] == '':\n",
    "        break\n",
    "\n",
    "    i = 1\n",
    "    for continuation, cont_type in entry['vp1_cont']:\n",
    "        \n",
    "        instance = {'idx': idx}\n",
    "        for k, v in entry.items():\n",
    "            if k not in ['vp1_cont', 'vp2_cont']:\n",
    "                instance[k] = v\n",
    "        \n",
    "        instance['continuation'] = continuation\n",
    "        instance['continuation_type'] = cont_type\n",
    "        instance['vp'] = '1'\n",
    "        instance['continuation_id'] = i\n",
    "        fixed_csv_format.append(instance)\n",
    "        i+=1\n",
    "        \n",
    "    i = 1\n",
    "    for continuation, cont_type in entry['vp2_cont']:\n",
    "\n",
    "        instance = {'idx': idx}\n",
    "        for k, v in entry.items():\n",
    "            if k not in ['vp1_cont', 'vp2_cont']:\n",
    "                instance[k] = v\n",
    "                \n",
    "        instance['continuation'] = continuation\n",
    "        instance['continuation_type'] = cont_type\n",
    "        instance['vp'] = '2'\n",
    "        instance['continuation_id'] = i\n",
    "        fixed_csv_format.append(instance)\n",
    "        i+=1"
   ]
  },
  {
   "cell_type": "code",
   "execution_count": 7,
   "id": "e9f259e9",
   "metadata": {},
   "outputs": [
    {
     "data": {
      "text/plain": [
       "True"
      ]
     },
     "execution_count": 7,
     "metadata": {},
     "output_type": "execute_result"
    }
   ],
   "source": [
    "# len(fixed_csv_format)\n",
    "\n",
    "# check if we have assigned ids in a manner that each instance is uniquely identifiable.\n",
    "\n",
    "ids = []\n",
    "for entry in fixed_csv_format:\n",
    "    ids.append(f\"{entry['idx']}_{entry['vp']}_{entry['continuation_id']}\")\n",
    "    \n",
    "len(set(ids)) == len(fixed_csv_format)"
   ]
  },
  {
   "cell_type": "code",
   "execution_count": 8,
   "id": "33b4a2ea",
   "metadata": {},
   "outputs": [
    {
     "data": {
      "text/plain": [
       "900"
      ]
     },
     "execution_count": 8,
     "metadata": {},
     "output_type": "execute_result"
    }
   ],
   "source": [
    "len(fixed_csv_format)"
   ]
  },
  {
   "cell_type": "code",
   "execution_count": 12,
   "id": "2db38b46",
   "metadata": {},
   "outputs": [],
   "source": [
    "# write to csv\n",
    "utils.write_dict_list_to_csv(fixed_csv_format, \"../data/manual-items.csv\")"
   ]
  },
  {
   "cell_type": "code",
   "execution_count": null,
   "id": "e32291f9",
   "metadata": {},
   "outputs": [],
   "source": []
  }
 ],
 "metadata": {
  "kernelspec": {
   "display_name": "Python 3 (ipykernel)",
   "language": "python",
   "name": "python3"
  },
  "language_info": {
   "codemirror_mode": {
    "name": "ipython",
    "version": 3
   },
   "file_extension": ".py",
   "mimetype": "text/x-python",
   "name": "python",
   "nbconvert_exporter": "python",
   "pygments_lexer": "ipython3",
   "version": "3.10.10"
  }
 },
 "nbformat": 4,
 "nbformat_minor": 5
}

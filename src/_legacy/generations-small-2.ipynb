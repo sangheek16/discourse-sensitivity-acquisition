{
 "cells": [
  {
   "cell_type": "code",
   "execution_count": 12,
   "id": "c05d6785",
   "metadata": {},
   "outputs": [],
   "source": [
    "# pip install -U transformers\n",
    "# pip install -U jinja2\n",
    "from transformers import AutoModelForCausalLM, AutoTokenizer\n",
    "import torch\n",
    "from transformers import set_seed"
   ]
  },
  {
   "cell_type": "code",
   "execution_count": null,
   "id": "b9d02579",
   "metadata": {},
   "outputs": [],
   "source": [
    "model_name = \"HuggingFaceTB/SmolLM2-135M-Instruct\""
   ]
  },
  {
   "cell_type": "code",
   "execution_count": null,
   "id": "f3afb1eb",
   "metadata": {},
   "outputs": [],
   "source": [
    "device = torch.device(\"cuda\" if torch.cuda.is_available() else \"cpu\")\n",
    "tokenizer = AutoTokenizer.from_pretrained(model_name)\n",
    "model = AutoModelForCausalLM.from_pretrained(model_name).to(device)"
   ]
  },
  {
   "cell_type": "code",
   "execution_count": 37,
   "id": "5cbbc75e",
   "metadata": {},
   "outputs": [],
   "source": [
    "def chat_prompt(sentence, tok=tokenizer):\n",
    "    return tok.apply_chat_template(\n",
    "        [   {\"role\": \"system\", \"content\": \"Please respond to the following message as naturally as possible.\"},\n",
    "            {\"role\": \"user\", \"content\": sentence}],\n",
    "        tokenize=False,\n",
    "        add_generation_prompt=True\n",
    "    )"
   ]
  },
  {
   "cell_type": "code",
   "execution_count": null,
   "id": "f2f033f3",
   "metadata": {},
   "outputs": [],
   "source": [
    "context = \"Ellie said, 'The nurse adopted a rescue dog,' and Marco replied, \""
   ]
  },
  {
   "cell_type": "code",
   "execution_count": null,
   "id": "3025a370",
   "metadata": {},
   "outputs": [
    {
     "name": "stdout",
     "output_type": "stream",
     "text": [
      "{'input_ids': tensor([[    1,  9690,   198, 10180,  3535,   288,   260,  1695,  3714,   347,\n",
      "          6099,   347,  1636,    30,     2,   198,     1,  4093,   198, 36602,\n",
      "           519,  1137,    28,   637,   504, 12996,  6582,   253, 13650,  2767,\n",
      "          7904,   284, 33205, 12028,    28,   216,     2,   198,     1,   520,\n",
      "          9531,   198]]), 'attention_mask': tensor([[1, 1, 1, 1, 1, 1, 1, 1, 1, 1, 1, 1, 1, 1, 1, 1, 1, 1, 1, 1, 1, 1, 1, 1,\n",
      "         1, 1, 1, 1, 1, 1, 1, 1, 1, 1, 1, 1, 1, 1, 1, 1, 1, 1]])}\n"
     ]
    }
   ],
   "source": [
    "encoded = tokenizer(chat_prompt(context), return_tensors=\"pt\").to(device)\n",
    "print(encoded)"
   ]
  },
  {
   "cell_type": "code",
   "execution_count": null,
   "id": "e6551444",
   "metadata": {},
   "outputs": [],
   "source": [
    "set_seed(1024)\n",
    "\n",
    "generations = model.generate(\n",
    "    **encoded, # needs to be a dictionary format\n",
    "    num_return_sequences=10, \n",
    "    max_length=50,\n",
    "    do_sample=True, \n",
    "    top_p=0.8,\n",
    "    temperature=0.9,\n",
    "    stop_strings=[\".\"],\n",
    "    tokenizer=tokenizer\n",
    ")"
   ]
  },
  {
   "cell_type": "code",
   "execution_count": null,
   "id": "1406b517",
   "metadata": {},
   "outputs": [
    {
     "name": "stdout",
     "output_type": "stream",
     "text": [
      "[\"Yes, that's correct, Ellie\", \"That's a good start.\", 'The nurse adopted a rescue dog.', 'That was a delightful coincidence! The nurse', \"Yes, that's correct.\", \"Hello! I'm so glad you asked\", \"That's a nice detail.\", 'Ellie: \"The nurse adopted ', \"A rescue dog! That's a fantastic\", '\"Ah, a rescue dog.']\n"
     ]
    }
   ],
   "source": [
    "decoded = tokenizer.batch_decode(generations,skip_special_tokens=True)\n",
    "output = [s.split(context)[-1].strip('\\nassistant\\n') for s in decoded]\n",
    "print(output)"
   ]
  }
 ],
 "metadata": {
  "kernelspec": {
   "display_name": "base",
   "language": "python",
   "name": "python3"
  },
  "language_info": {
   "codemirror_mode": {
    "name": "ipython",
    "version": 3
   },
   "file_extension": ".py",
   "mimetype": "text/x-python",
   "name": "python",
   "nbconvert_exporter": "python",
   "pygments_lexer": "ipython3",
   "version": "3.9.12"
  }
 },
 "nbformat": 4,
 "nbformat_minor": 5
}

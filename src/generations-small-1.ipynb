{
 "cells": [
  {
   "cell_type": "code",
   "execution_count": 1,
   "metadata": {},
   "outputs": [
    {
     "name": "stderr",
     "output_type": "stream",
     "text": [
      "/scratch/miniconda3/envs/dev/lib/python3.11/site-packages/transformers/utils/hub.py:128: FutureWarning: Using `TRANSFORMERS_CACHE` is deprecated and will be removed in v5 of Transformers. Use `HF_HOME` instead.\n",
      "  warnings.warn(\n"
     ]
    }
   ],
   "source": [
    "# from minicons import scorer\n",
    "from transformers import set_seed\n",
    "from transformers import AutoTokenizer, AutoModelForCausalLM"
   ]
  },
  {
   "cell_type": "code",
   "execution_count": 2,
   "metadata": {},
   "outputs": [
    {
     "data": {
      "application/vnd.jupyter.widget-view+json": {
       "model_id": "10cb641e32f4461196e74ad102e3eec6",
       "version_major": 2,
       "version_minor": 0
      },
      "text/plain": [
       "Downloading shards:   0%|          | 0/4 [00:00<?, ?it/s]"
      ]
     },
     "metadata": {},
     "output_type": "display_data"
    },
    {
     "data": {
      "application/vnd.jupyter.widget-view+json": {
       "model_id": "e288b515b72e414e8e7cbe5874e1bd1f",
       "version_major": 2,
       "version_minor": 0
      },
      "text/plain": [
       "Loading checkpoint shards:   0%|          | 0/4 [00:00<?, ?it/s]"
      ]
     },
     "metadata": {},
     "output_type": "display_data"
    },
    {
     "data": {
      "text/plain": [
       "LlamaForCausalLM(\n",
       "  (model): LlamaModel(\n",
       "    (embed_tokens): Embedding(128256, 4096)\n",
       "    (layers): ModuleList(\n",
       "      (0-31): 32 x LlamaDecoderLayer(\n",
       "        (self_attn): LlamaAttention(\n",
       "          (q_proj): Linear(in_features=4096, out_features=4096, bias=False)\n",
       "          (k_proj): Linear(in_features=4096, out_features=1024, bias=False)\n",
       "          (v_proj): Linear(in_features=4096, out_features=1024, bias=False)\n",
       "          (o_proj): Linear(in_features=4096, out_features=4096, bias=False)\n",
       "        )\n",
       "        (mlp): LlamaMLP(\n",
       "          (gate_proj): Linear(in_features=4096, out_features=14336, bias=False)\n",
       "          (up_proj): Linear(in_features=4096, out_features=14336, bias=False)\n",
       "          (down_proj): Linear(in_features=14336, out_features=4096, bias=False)\n",
       "          (act_fn): SiLU()\n",
       "        )\n",
       "        (input_layernorm): LlamaRMSNorm((4096,), eps=1e-05)\n",
       "        (post_attention_layernorm): LlamaRMSNorm((4096,), eps=1e-05)\n",
       "      )\n",
       "    )\n",
       "    (norm): LlamaRMSNorm((4096,), eps=1e-05)\n",
       "    (rotary_emb): LlamaRotaryEmbedding()\n",
       "  )\n",
       "  (lm_head): Linear(in_features=4096, out_features=128256, bias=False)\n",
       ")"
      ]
     },
     "execution_count": 2,
     "metadata": {},
     "output_type": "execute_result"
    }
   ],
   "source": [
    "model_name = \"meta-llama/Meta-Llama-3-8B-Instruct\"\n",
    "\n",
    "tokenizer = AutoTokenizer.from_pretrained(model_name)\n",
    "model = AutoModelForCausalLM.from_pretrained(model_name)\n",
    "model.to(\"cuda:0\")"
   ]
  },
  {
   "cell_type": "code",
   "execution_count": 2,
   "metadata": {},
   "outputs": [],
   "source": [
    "# lm = scorer.IncrementalLMScorer(\"gpt2-xl\", device=\"cuda:0\")"
   ]
  },
  {
   "cell_type": "code",
   "execution_count": 41,
   "metadata": {},
   "outputs": [],
   "source": [
    "s_full = \"The nurse, who likes french cuisine, adopted a rescue dog.\"\n",
    "s_vp1 = \"The nurse likes french cuisine.\"\n",
    "s_vp2 = \"The nurse adopted a rescue dog.\"\n",
    "\n",
    "\n",
    "def prompt(sentence):\n",
    "    return f'Ellie said, \"{sentence}\", and Marco replied, \"'\n",
    "\n",
    "\n",
    "def chat_prompt(sentence, tok=tokenizer):\n",
    "    return tok.apply_chat_template(\n",
    "        [   {\"role\": \"system\", \"content\": \"Please respond to the following message as naturally as possible.\"},\n",
    "            { \"role\": \"user\", \"content\": sentence}],\n",
    "        tokenize=False,\n",
    "        add_generation_prompt=True,\n",
    "    )"
   ]
  },
  {
   "cell_type": "code",
   "execution_count": 42,
   "metadata": {},
   "outputs": [],
   "source": [
    "# encoded = lm.tokenizer(s_vp1, return_tensors=\"pt\")\n",
    "# encoded = encoded.to(lm.device)\n",
    "\n",
    "encoded = tokenizer(chat_prompt(s_vp1), return_tensors=\"pt\")\n",
    "encoded = encoded.to(\"cuda:0\")"
   ]
  },
  {
   "cell_type": "code",
   "execution_count": 43,
   "metadata": {},
   "outputs": [
    {
     "name": "stderr",
     "output_type": "stream",
     "text": [
      "Setting `pad_token_id` to `eos_token_id`:128001 for open-end generation.\n"
     ]
    }
   ],
   "source": [
    "set_seed(1024)\n",
    "\n",
    "generations = model.generate(\n",
    "    **encoded, \n",
    "    num_return_sequences=10, \n",
    "    max_length=50, \n",
    "    do_sample=True, \n",
    "    top_p=0.8,\n",
    "    temperature=0.9,\n",
    "    # typical_p=0.9,\n",
    "    # min_p=0.2,\n",
    "    # top_p=0.8,\n",
    "    # top_k = 5000,\n",
    "    # force_words_ids=[[857]],\n",
    "    stop_strings=[\".\"],\n",
    "    tokenizer=tokenizer\n",
    ")"
   ]
  },
  {
   "cell_type": "code",
   "execution_count": 44,
   "metadata": {},
   "outputs": [
    {
     "data": {
      "text/plain": [
       "[\"system\\n\\nPlease respond to the following message as naturally as possible.user\\n\\nThe nurse likes french cuisine.assistant\\n\\nThat's great! French cuisine is renowned for its rich flavors and intricate preparations.\",\n",
       " \"system\\n\\nPlease respond to the following message as naturally as possible.user\\n\\nThe nurse likes french cuisine.assistant\\n\\nThat's interesting! I've always loved the rich flavors and aromas of French cuisine\",\n",
       " \"system\\n\\nPlease respond to the following message as naturally as possible.user\\n\\nThe nurse likes french cuisine.assistant\\n\\nThat's great! French cuisine is renowned for its rich flavors and intricate preparations.\",\n",
       " \"system\\n\\nPlease respond to the following message as naturally as possible.user\\n\\nThe nurse likes french cuisine.assistant\\n\\nThat's great! French cuisine is known for its rich flavors and intricate preparations.\",\n",
       " \"system\\n\\nPlease respond to the following message as naturally as possible.user\\n\\nThe nurse likes french cuisine.assistant\\n\\nThat's great! French cuisine is renowned for its rich flavors and intricate preparations.\",\n",
       " \"system\\n\\nPlease respond to the following message as naturally as possible.user\\n\\nThe nurse likes french cuisine.assistant\\n\\nThat's interesting! What's her favorite French dish? Is it escargot,\",\n",
       " \"system\\n\\nPlease respond to the following message as naturally as possible.user\\n\\nThe nurse likes french cuisine.assistant\\n\\nThat's great! French cuisine is renowned for its rich flavors and intricate preparations.\",\n",
       " \"system\\n\\nPlease respond to the following message as naturally as possible.user\\n\\nThe nurse likes french cuisine.assistant\\n\\nThat's interesting! I've heard that French cuisine is known for its rich flavors and\",\n",
       " \"system\\n\\nPlease respond to the following message as naturally as possible.user\\n\\nThe nurse likes french cuisine.assistant\\n\\nThat's interesting! French cuisine is known for its rich flavors and intricate preparations.\",\n",
       " \"system\\n\\nPlease respond to the following message as naturally as possible.user\\n\\nThe nurse likes french cuisine.assistant\\n\\nThat's great! French cuisine is known for its rich flavors and intricate preparations.\"]"
      ]
     },
     "execution_count": 44,
     "metadata": {},
     "output_type": "execute_result"
    }
   ],
   "source": [
    "tokenizer.batch_decode(generations,skip_special_tokens=True)"
   ]
  },
  {
   "cell_type": "code",
   "execution_count": 32,
   "metadata": {},
   "outputs": [
    {
     "data": {
      "text/plain": [
       "{'input_ids': [7091, 857], 'attention_mask': [1, 1]}"
      ]
     },
     "execution_count": 32,
     "metadata": {},
     "output_type": "execute_result"
    }
   ],
   "source": [
    "tokenizer(\"she does\")"
   ]
  },
  {
   "cell_type": "code",
   "execution_count": null,
   "metadata": {},
   "outputs": [],
   "source": []
  }
 ],
 "metadata": {
  "kernelspec": {
   "display_name": "base",
   "language": "python",
   "name": "python3"
  },
  "language_info": {
   "codemirror_mode": {
    "name": "ipython",
    "version": 3
   },
   "file_extension": ".py",
   "mimetype": "text/x-python",
   "name": "python",
   "nbconvert_exporter": "python",
   "pygments_lexer": "ipython3",
   "version": "3.9.12"
  }
 },
 "nbformat": 4,
 "nbformat_minor": 2
}
